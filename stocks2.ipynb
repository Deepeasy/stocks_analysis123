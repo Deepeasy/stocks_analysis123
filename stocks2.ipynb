{
 "cells": [
  {
   "cell_type": "code",
   "execution_count": null,
   "id": "d120e3c4",
   "metadata": {
    "ExecuteTime": {
     "end_time": "2024-06-23T10:48:13.735523Z",
     "start_time": "2024-06-23T10:48:13.048005Z"
    }
   },
   "outputs": [],
   "source": [
    "import yfinance as yf\n",
    "import pandas as pd\n",
    "\n",
    "def calculate_RSI(ticker, period='1mo', interval='1d', window_length=14):\n",
    "    \"\"\"\n",
    "    Calculate the Relative Strength Index (RSI) for a given stock ticker.\n",
    "\n",
    "    :param ticker: Stock ticker symbol\n",
    "    :param period: Period to fetch data for (default '1mo' - 1 month)\n",
    "    :param interval: Data interval (default '1d' - daily)\n",
    "    :param window_length: Window length for RSI calculation (default 14)\n",
    "    :return: RSI value for the last day in the fetched data\n",
    "    \"\"\"\n",
    "    # Fetch historical data from Yahoo Finance\n",
    "    data = yf.download(ticker, period=period, interval=interval)\n",
    "    \n",
    "    # Ensure data is fetched successfully\n",
    "    if data.empty:\n",
    "        raise ValueError(f\"No data found for ticker {ticker}\")\n",
    "\n",
    "    # Calculate the price changes\n",
    "    delta = data['Close'].diff()\n",
    "\n",
    "    # Separate gains and losses\n",
    "    gain = (delta.where(delta > 0, 0)).fillna(0)\n",
    "    loss = (-delta.where(delta < 0, 0)).fillna(0)\n",
    "\n",
    "    # Calculate the average gain and average loss\n",
    "    avg_gain = gain.rolling(window=window_length, min_periods=1).mean()\n",
    "    avg_loss = loss.rolling(window=window_length, min_periods=1).mean()\n",
    "\n",
    "    # Calculate the Relative Strength (RS)\n",
    "    rs = avg_gain / avg_loss\n",
    "\n",
    "    # Calculate the RSI\n",
    "    rsi = 100 - (100 / (1 + rs))\n",
    "\n",
    "    # Get the last RSI value\n",
    "    last_rsi = rsi.iloc[-1]\n",
    "\n",
    "    return last_rsi"
   ]
  },
  {
   "cell_type": "code",
   "execution_count": null,
   "id": "26e7b203",
   "metadata": {
    "ExecuteTime": {
     "end_time": "2024-06-23T10:48:16.832865Z",
     "start_time": "2024-06-23T10:48:16.828403Z"
    }
   },
   "outputs": [],
   "source": [
    "def calculate_SMA(ticker, window_length, period='6mo', interval='1d'):\n",
    "    \"\"\"\n",
    "    Calculate the Simple Moving Average (SMA) for a given stock ticker and window length.\n",
    "\n",
    "    :param ticker: Stock ticker symbol\n",
    "    :param window_length: Window length for SMA calculation (e.g., 20 or 50)\n",
    "    :param period: Period to fetch data for (default '6mo' - 6 months)\n",
    "    :param interval: Data interval (default '1d' - daily)\n",
    "    :return: SMA value for the last day in the fetched data\n",
    "    \"\"\"\n",
    "    # Fetch historical data from Yahoo Finance\n",
    "    data = yf.download(ticker, period=period, interval=interval)\n",
    "    \n",
    "    # Ensure data is fetched successfully\n",
    "    if data.empty:\n",
    "        raise ValueError(f\"No data found for ticker {ticker}\")\n",
    "\n",
    "    # Calculate the moving average\n",
    "    sma = data['Close'].rolling(window=window_length).mean()\n",
    "    \n",
    "    # Get the last moving average value\n",
    "    last_sma = sma.iloc[-1]\n",
    "    \n",
    "    return last_sma\n"
   ]
  },
  {
   "cell_type": "code",
   "execution_count": null,
   "id": "4e6296b4",
   "metadata": {
    "ExecuteTime": {
     "end_time": "2024-06-23T11:23:11.699155Z",
     "start_time": "2024-06-23T11:23:11.691293Z"
    }
   },
   "outputs": [],
   "source": [
    "def Status(row):    \n",
    "    if row[\"RSI\"] > 70 and row[\"SMA_20\"] > row[\"SMA_50\"]: \n",
    "        return 1.0\n",
    "    elif row[\"RSI\"] < 30 and row[\"SMA_20\"] < row[\"SMA_50\"]: \n",
    "        return -1.0\n",
    "    else:\n",
    "        return 0.0\n",
    "              "
   ]
  },
  {
   "cell_type": "code",
   "execution_count": null,
   "id": "08bc27b1",
   "metadata": {
    "ExecuteTime": {
     "end_time": "2024-06-23T13:50:55.111528Z",
     "start_time": "2024-06-23T13:50:55.082878Z"
    }
   },
   "outputs": [],
   "source": [
    "# List of stock tickers\n",
    "tickers = ['ADCINDIA.BO','ALLCARGO.BO','ASHIMASYN.BO','BSESN','FORBESCO.BO','GTNINDS.BO','GLOBOFFS.BO','GOODRICKE.BO','HOCL.BO',\n",
    "          'ITHL.BO','KENNAMET.BO','KINETICENG.BO','KIRLFER.BO','PATSPINLTD.BO','PUNJCOMMU.BO','WARRENTEA.BO','20MICRONS.NS',\n",
    "          '360ONE.NS','3IINFOLTD.NS','3MINDIA.BO','63MOONS.NS','ABB.NS','ACC.NS','AGI.NS','AIAENG.NS','AJRINFRA.NS',\n",
    "           'AMJLAND.NS','APLAPOLLO.NS','ARSSINFRA.NS','AUBANK.NS','AARTIDRUGS.NS','AARTIIND.NS','AAVAS.BO','ABAN.NS',\n",
    "          'ABBOTINDIA.NS','ACCELYA.NS','ADANIENSOL.NS','ADANIENT.NS','ADANIGREEN.NS','ADANIPORTS.NS','ADANIPOWER.NS','ATGL.NS',\n",
    "          'AWL.NS','ABCAPITAL.NS','ABFRL.NS','ABSLAMC.NS','ADORWELD.NS','ADVENZYMES.NS','AEGISCHEM.NS','AETHER.NS','AFFLE.NS',\n",
    "          'ATFL.NS','AHLUCONT.NS','AJANTPHARM.NS','AJMERA.NS','AKSHOPTFBR.NS','AKZOINDIA.NS','ALEMBICLTD.NS','APLLTD.NS',\n",
    "           'ALKEM.NS','ALKYLAMINE.NS','ADSL.NS','ALOKINDS.NS','ARE.M.NS','AMBER.NS','AMBUJACEM.NS','ANANTRAJ.NS',\n",
    "           'ANDHRAPAP.NS','ANDHRSUGAR.NS','ANGELONE.NS','ANSALAPI.NS','ANURAS.NS','APARINDS.NS','APOLLOHOSP.NS',\n",
    "           'APOLLOTYRE.NS','APTECHT.NS','APTUS.NS','ACI.NS','ARCHIES.NS','ARSHIYA.NS','ARVINDFASN.NS','ARVIND.NS',\n",
    "           'ASAHIINDIA.NS','ASHIANA.NS','ASHOKLEY.NS','ASHOKA.NS','ASIANHOTNR.NS','ASIANPAINT.NS','ASTERDM.NS','ASTRAL.NS',\n",
    "          'ASTRAZEN.NS','ATLASCYCLE.NS','ATUL.NS','AUROPHARMA.NS','AUTOIND.NS','AUTOAXLES.NS','AVANTIFEED.NS','DMART.NS',\n",
    "          'AXISBANK.NS','AXISCADES.NS','BASF.NS','BEML.NS','BFUTILITIE.NS','BGRENERGY.NS','BLKASHYAP.NS','INDIAGLYCO.NS','BPL.NS','BSL.NS',\n",
    "          'BAJAJ-AUTO.BO','BAJAJCON.NS','BAJAJELEC.NS','BAJFINANCE.NS','BAJAJFINSV.NS','BAJAJHIND.NS','BAJAJHLDNG.NS',\n",
    "          'BALAMINES.NS','BALAJITELE.NS','BALKRISIND.NS','BALLARPUR.NS','BALMLAWRIE.NS','BALRAMCHIN.NS','BANCOINDIA.NS',\n",
    "          'BANDHANBNK.NS','BANKBARODA.NS','BANKINDIA.NS','MAHABANK.NS','BANARISUG.NS','BATAINDIA.NS','BAYERCROP.NS',\n",
    "          'BERGEPAINT.NS','BEPL.NS','BDL.NS','BEL.NS','BHARATFORG.NS','BHEL.NS','BPCL.NS','BHARATRAS.NS','BHARTIARTL.NS',\n",
    "           'BIKAJI.NS','BINANIIND.NS','BIOCON.NS','BIRLACABLE.NS','BIRLACORPN.NS','BSOFT.NS','BBOX.NS','BLISSGVS.NS',\n",
    "           'BLUEDART.NS','BLUESTARCO.NS','BBTC.NS','BOMDYEING.NS','BRFL.NS','BORORENEW.NS','BOSCHLTD.NS','BRIGADE.NS','BCG.NS',\n",
    "          'BRITANNIA.NS','CCL.NS','MAPMYINDIA.NS','CESC.NS','CGPOWER.NS','CIEINDIA.NS','CSBBANK.NS','CAMLINFINE.NS',\n",
    "           'CAMPUS.NS','CANFINHOME.NS','CANBK.NS','CAPLIPOINT.NS','CGCL.NS','CARBORUNIV.NS','CARERATING.NS','CASTROLIND.NS',\n",
    "          'CEATLTD.NS','CENTRALBK.NS','CDSL.NS','CENTENKA.NS','CENTURYPLY.NS','CENTURYTEX.NS','CERA.NS','CHALET.NS',\n",
    "           'CHAMBLFERT.NS','CHEMPLASTS.NS','CHENNPETRO.NS','CHOLAHLDNG.NS','CHOLAFIN.NS','CINEVISTA.NS','CIPLA.NS','CUB.NS',\n",
    "          'CLEAN.NS','COALINDIA.NS','COCHINSHIP.NS','COFFEEDAY.NS','COFORGE.NS','COLPAL.NS','CAMS.NS','CONCORDBIO.NS',\n",
    "          'CONSOFINVT.NS','CONCOR.NS','COROMANDEL.NS','COSMOFIRST.NS','COX&KINGS.NS','CRAFTSMAN.NS','CREATIVEYE.NS','CREDITACC.NS','CRISIL.NS','CROMPTON.NS','CUMMINSIND.NS',\n",
    "           'CYBERTECH.NS','CYIENT.NS','DBCORP.NS','DBREALTY.NS','DCBBANK.NS','DCMSHRIRAM.NS','DCW.NS','DICIND.NS',\n",
    "          'DLF.NS','DABUR.NS','DALBHARAT.NS','DALMIASUG.NS','DATAPATTNS.NS','DEEPAKFERT.NS','DEEPAKNTR.NS','DELHIVERY.NS',\n",
    "          'DELTACORP.NS','DEN.NS','DEVYANI.NS','DHAMPURSUG.NS','DHANI.NS','DHANBANK.NS','DHANUKA.NS','DBL.NS','DISHTV.NS',\n",
    "          'DCAL.NS','DIVISLAB.NS','DIXON.NS','DONEAR.NS','LALPATHLAB.NS','DRREDDY.NS','DREDGECORP.NS','DWARKESH.NS',\n",
    "            'DYNAMATECH.NS','EIDPARRY.NS','EIHOTEL.NS','EPL.NS','EASEMYTRIP.NS','ECLERX.NS','EDELWEISS.NS','EDUCOMP.NS',\n",
    "           'EICHERMOT.NS','ELECTCAST.NS','ELGIEQUIP.NS','EMAMILTD.NS','ENDURANCE.NS','ENGINERSIN.NS','ENIL.NS','EPIGRAL.NS',\n",
    "          'EQUITASBNK.NS','ERIS.NS','EROSMEDIA.NS','ESABINDIA.NS','ESCORTS.NS','EVEREADY.NS','EVERESTIND.NS','EKC.NS',\n",
    "          'EXCELINDUS.NS','EXIDEIND.NS','FDC.NS','NYKAA.NS','FEDERALBNK.NS','FMGOETZE.NS','FACT.NS','FINEORG.NS',\n",
    "           'FINCABLES.NS','FINPIPE.NS','FSL.NS','FIVESTAR.NS','FLEXITUFF.NS','FORTIS.NS','FOSECOIND.NS','FCONSUMER.NS','FEL.NS',\n",
    "          'FLFL.NS','FRETAIL.NS','GAIL.NS','GBGLOBAL.NS','GEPIL.NS','GET&D.NS','GFLLIMITED.NS','GHCL.NS','GMMPFAUDLR.NS',\n",
    "          'GMRINFRA.NS','GRINFRA.NS','GTLINFRA.NS','GTL.NS','GVKPIL.NS','GABRIEL.NS','GALAXYSURF.NS','GAMMONIND6.BO','GRSE.NS',\n",
    "          'GARFIBRES.NS','ACLGATI.NS','GAYAPROJ.NS','GICRE.NS','GEOJITFSL.NS','GILLETTE.NS','GLAND.NS','GLAXO.NS','GLS.NS',\n",
    "          'GLENMARK.NS','MEDANTA.NS','GOCOLORS.NS','GPIL.NS','GODFRYPHLP.NS','GODREJAGRO.NS','GODREJCP.NS','GODREJIND.NS',\n",
    "          'GODREJPROP.NS','GOKEX.NS','GOODYEAR.NS','GRANULES.NS','GRAPHITE.NS','GRASIM.NS','GESHIP.NS','GREAVESCOT.NS',\n",
    "          'GREENPANEL.NS','GREENPLY.NS','GRINDWELL.NS','GUJALKALI.NS','GAEL.NS','FLUOROCHEM.NS','GUJGASLTD.NS','GIPCL.NS',\n",
    "          'GMDCLTD.NS','GNFC.NS','GPPL.NS','GSFC.NS','GSPL.NS','GULFOILLUB.NS','HCL-INSYS.NS','HCLTECH.NS','HDFCAMC.NS',\n",
    "          'HDFCBANK.NS','HDFCLIFE.NS','HEG.NS','HFCL.NS','HLEGLAS.NS','HLVLTD.NS','HMT.NS','HTMEDIA.NS','HAPPSTMNDS.NS',\n",
    "          'HARRMALAYA.NS','HATHWAY.NS','HATSUN.NS','HAVELLS.NS','HEIDELBERG.NS','HEMIPROP.NS','HERITGFOOD.NS','HEROMOTOCO.NS',\n",
    "          'HEUBACHIND.NS','HIKAL.NS','HSCL.NS','HIMATSEIDE.NS','HINDALCO.NS','HGS.NS','HAL.NS','HCC.NS','HINDCOPPER.NS','HMVL.NS',\n",
    "          'HINDMOTORS.NS','HINDOILEXP.NS','HINDPETRO.NS','HINDUNILVR.NS','HINDZINC.NS','POWERINDIA.NS','HOMEFIRST.NS',\n",
    "          'HONDAPOWER.NS','HONAUT.NS','HUDCO.NS','HDIL.NS','HUBTOWN.NS','HUHTAMAKI.NS','ICICIBANK.NS','ICICIGI.NS',\n",
    "          'ICICIPRULI.NS','ISEC.NS','ICRA.NS','IDBI.NS','IDFCFIRSTB.NS','IDFC.NS','IFBIND.NS','IFCI.NS','IIFL.NS',\n",
    "          'IL&FSENGG.NS','IL&FSTRANS.NS','IOLCP.NS','IRB.NS','ITC.NS','ITDCEM.NS','ITI.NS','IGARASHI.NS',]"
   ]
  },
  {
   "cell_type": "code",
   "execution_count": null,
   "id": "a8a155a0",
   "metadata": {
    "ExecuteTime": {
     "end_time": "2024-06-23T13:42:24.528833Z",
     "start_time": "2024-06-23T13:42:24.501287Z"
    }
   },
   "outputs": [],
   "source": [
    "tickers = []"
   ]
  },
  {
   "cell_type": "code",
   "execution_count": null,
   "id": "21489b17",
   "metadata": {},
   "outputs": [],
   "source": []
  },
  {
   "cell_type": "code",
   "execution_count": null,
   "id": "48532695",
   "metadata": {
    "ExecuteTime": {
     "end_time": "2024-06-23T14:00:22.447566Z",
     "start_time": "2024-06-23T13:51:08.051369Z"
    }
   },
   "outputs": [],
   "source": [
    "# List to store RSI and SMA values\n",
    "data_list = []\n",
    "\n",
    "# Calculate RSI and SMA for each ticker and store in list\n",
    "for ticker in tickers:\n",
    "    try:\n",
    "        rsi_value = calculate_RSI(ticker)\n",
    "        sma_20_value = calculate_SMA(ticker, window_length=20)\n",
    "        sma_50_value = calculate_SMA(ticker, window_length=50)\n",
    "        data_list.append({'Ticker': ticker, 'RSI': float(rsi_value), 'SMA_20': float(sma_20_value), 'SMA_50': float(sma_50_value)})\n",
    "    except ValueError as e:\n",
    "        print(f\"Error fetching data for {ticker}: {e}\")\n",
    "\n",
    "# Convert list to DataFrame\n",
    "data_values = pd.DataFrame(data_list)\n",
    "\n",
    "# Display the RSI and SMA values in a table\n",
    "print(data_values)"
   ]
  },
  {
   "cell_type": "code",
   "execution_count": 74,
   "id": "d5c83da8",
   "metadata": {
    "ExecuteTime": {
     "end_time": "2024-06-23T14:08:20.680408Z",
     "start_time": "2024-06-23T14:08:20.651317Z"
    }
   },
   "outputs": [
    {
     "data": {
      "text/html": [
       "<div>\n",
       "<style scoped>\n",
       "    .dataframe tbody tr th:only-of-type {\n",
       "        vertical-align: middle;\n",
       "    }\n",
       "\n",
       "    .dataframe tbody tr th {\n",
       "        vertical-align: top;\n",
       "    }\n",
       "\n",
       "    .dataframe thead th {\n",
       "        text-align: right;\n",
       "    }\n",
       "</style>\n",
       "<table border=\"1\" class=\"dataframe\">\n",
       "  <thead>\n",
       "    <tr style=\"text-align: right;\">\n",
       "      <th></th>\n",
       "      <th>Ticker</th>\n",
       "      <th>RSI</th>\n",
       "      <th>SMA_20</th>\n",
       "      <th>SMA_50</th>\n",
       "      <th>Status</th>\n",
       "    </tr>\n",
       "  </thead>\n",
       "  <tbody>\n",
       "    <tr>\n",
       "      <th>0</th>\n",
       "      <td>ADCINDIA.BO</td>\n",
       "      <td>73.098706</td>\n",
       "      <td>1365.002496</td>\n",
       "      <td>1237.208005</td>\n",
       "      <td>1.0</td>\n",
       "    </tr>\n",
       "    <tr>\n",
       "      <th>1</th>\n",
       "      <td>ALLCARGO.BO</td>\n",
       "      <td>30.774340</td>\n",
       "      <td>65.884001</td>\n",
       "      <td>69.369000</td>\n",
       "      <td>0.0</td>\n",
       "    </tr>\n",
       "    <tr>\n",
       "      <th>2</th>\n",
       "      <td>ASHIMASYN.BO</td>\n",
       "      <td>64.809653</td>\n",
       "      <td>33.582000</td>\n",
       "      <td>26.316800</td>\n",
       "      <td>0.0</td>\n",
       "    </tr>\n",
       "    <tr>\n",
       "      <th>3</th>\n",
       "      <td>FORBESCO.BO</td>\n",
       "      <td>52.276378</td>\n",
       "      <td>636.209991</td>\n",
       "      <td>618.802998</td>\n",
       "      <td>0.0</td>\n",
       "    </tr>\n",
       "    <tr>\n",
       "      <th>4</th>\n",
       "      <td>GTNINDS.BO</td>\n",
       "      <td>55.645162</td>\n",
       "      <td>32.552500</td>\n",
       "      <td>33.005000</td>\n",
       "      <td>0.0</td>\n",
       "    </tr>\n",
       "    <tr>\n",
       "      <th>...</th>\n",
       "      <td>...</td>\n",
       "      <td>...</td>\n",
       "      <td>...</td>\n",
       "      <td>...</td>\n",
       "      <td>...</td>\n",
       "    </tr>\n",
       "    <tr>\n",
       "      <th>921</th>\n",
       "      <td>ZODIACLOTH.NS</td>\n",
       "      <td>78.961562</td>\n",
       "      <td>113.294500</td>\n",
       "      <td>114.281799</td>\n",
       "      <td>0.0</td>\n",
       "    </tr>\n",
       "    <tr>\n",
       "      <th>922</th>\n",
       "      <td>ZOMATO.NS</td>\n",
       "      <td>64.538302</td>\n",
       "      <td>184.263000</td>\n",
       "      <td>188.611200</td>\n",
       "      <td>0.0</td>\n",
       "    </tr>\n",
       "    <tr>\n",
       "      <th>923</th>\n",
       "      <td>ZUARIIND.NS</td>\n",
       "      <td>71.498371</td>\n",
       "      <td>310.447499</td>\n",
       "      <td>326.172000</td>\n",
       "      <td>0.0</td>\n",
       "    </tr>\n",
       "    <tr>\n",
       "      <th>924</th>\n",
       "      <td>ZYDUSLIFE.NS</td>\n",
       "      <td>67.397537</td>\n",
       "      <td>1061.785007</td>\n",
       "      <td>1016.411007</td>\n",
       "      <td>0.0</td>\n",
       "    </tr>\n",
       "    <tr>\n",
       "      <th>925</th>\n",
       "      <td>ZYDUSLIFE.NS</td>\n",
       "      <td>67.397537</td>\n",
       "      <td>1061.785007</td>\n",
       "      <td>1016.411007</td>\n",
       "      <td>0.0</td>\n",
       "    </tr>\n",
       "  </tbody>\n",
       "</table>\n",
       "<p>926 rows × 5 columns</p>\n",
       "</div>"
      ],
      "text/plain": [
       "            Ticker        RSI       SMA_20       SMA_50  Status\n",
       "0      ADCINDIA.BO  73.098706  1365.002496  1237.208005     1.0\n",
       "1      ALLCARGO.BO  30.774340    65.884001    69.369000     0.0\n",
       "2     ASHIMASYN.BO  64.809653    33.582000    26.316800     0.0\n",
       "3      FORBESCO.BO  52.276378   636.209991   618.802998     0.0\n",
       "4       GTNINDS.BO  55.645162    32.552500    33.005000     0.0\n",
       "..             ...        ...          ...          ...     ...\n",
       "921  ZODIACLOTH.NS  78.961562   113.294500   114.281799     0.0\n",
       "922      ZOMATO.NS  64.538302   184.263000   188.611200     0.0\n",
       "923    ZUARIIND.NS  71.498371   310.447499   326.172000     0.0\n",
       "924   ZYDUSLIFE.NS  67.397537  1061.785007  1016.411007     0.0\n",
       "925   ZYDUSLIFE.NS  67.397537  1061.785007  1016.411007     0.0\n",
       "\n",
       "[926 rows x 5 columns]"
      ]
     },
     "execution_count": 74,
     "metadata": {},
     "output_type": "execute_result"
    }
   ],
   "source": [
    "       \n",
    "\n",
    "# Create a new column based on the function\n",
    "data_values[\"Status\"] = data_values.apply(Status, axis=1)\n",
    "data_values"
   ]
  },
  {
   "cell_type": "code",
   "execution_count": 75,
   "id": "d39b1e67",
   "metadata": {
    "ExecuteTime": {
     "end_time": "2024-06-23T14:08:25.368997Z",
     "start_time": "2024-06-23T14:08:25.362792Z"
    }
   },
   "outputs": [
    {
     "name": "stdout",
     "output_type": "stream",
     "text": [
      "Buy List: ['ADCINDIA.BO', 'GLOBOFFS.BO', 'GOODRICKE.BO', 'PUNJCOMMU.BO', '20MICRONS.NS', '3MINDIA.BO', 'AIAENG.NS', 'AAVAS.BO', 'ABSLAMC.NS', 'AKZOINDIA.NS', 'ALKEM.NS', 'ANDHRAPAP.NS', 'ANDHRSUGAR.NS', 'ARVINDFASN.NS', 'ASAHIINDIA.NS', 'ASHOKA.NS', 'ATUL.NS', 'BASF.NS', 'BLKASHYAP.NS', 'INDIAGLYCO.NS', 'BAJAJCON.NS', 'BAJAJELEC.NS', 'BAJAJHIND.NS', 'BALRAMCHIN.NS', 'BANARISUG.NS', 'BAYERCROP.NS', 'BEPL.NS', 'BIKAJI.NS', 'MAPMYINDIA.NS', 'CANFINHOME.NS', 'CERA.NS', 'CHOLAHLDNG.NS', 'CIPLA.NS', 'CLEAN.NS', 'COROMANDEL.NS', 'COSMOFIRST.NS', 'CRAFTSMAN.NS', 'DICIND.NS', 'DELTACORP.NS', 'DHANUKA.NS', 'DIXON.NS', 'DONEAR.NS', 'DWARKESH.NS', 'EIDPARRY.NS', 'ELGIEQUIP.NS', 'ENDURANCE.NS', 'EQUITASBNK.NS', 'ERIS.NS', 'ESCORTS.NS', 'EXIDEIND.NS', 'FMGOETZE.NS', 'FACT.NS', 'FINEORG.NS', 'FIVESTAR.NS', 'FOSECOIND.NS', 'FRETAIL.NS', 'GEPIL.NS', 'GHCL.NS', 'GTLINFRA.NS', 'GABRIEL.NS', 'GALAXYSURF.NS', 'GARFIBRES.NS', 'GPIL.NS', 'GODREJAGRO.NS', 'GRANULES.NS', 'GREENPLY.NS', 'GIPCL.NS', 'HAPPSTMNDS.NS', 'HATSUN.NS', 'HSCL.NS', 'HCC.NS', 'HOMEFIRST.NS', 'HONDAPOWER.NS', 'HUHTAMAKI.NS', 'ICRA.NS', 'IIFL.NS', 'INDNIPPON.NS', 'IEX.NS', 'INDHOTEL.NS', 'NAUKRI.NS', 'INFOMEDIA.NS', 'INFY.NS', 'JKPAPER.NS', 'JTEKTINDIA.NS', 'JAICORPLTD.NS', 'JISLJALEQS.NS', 'JUBLFOOD.NS', 'KCP.NS', 'L&TFH.NS', 'LTIM.NS', 'MASFIN.NS', 'MPSLTD.NS', 'M&MFIN.NS', 'MHRIL.NS', 'MAXHEALTH.NS', 'MAYURUNIQ.NS', 'MUNJALAU.NS', 'NAGAFERT.NS', 'NAHARPOLY.NS', 'NATCOPHARM.NS', 'NFL.NS', 'NAVA.NS', 'NAVINFLUOR.NS', 'OMAXAUTO.NS', 'OFSS.NS', 'ORIENTELEC.NS', 'PAGEIND.NS', 'PERSISTENT.NS', 'PHOENIXLTD.NS', 'POLYMED.NS', 'PRAJIND.NS', 'PRICOLLTD.NS', 'PRINCEPIPE.NS', 'PRIVISCL.NS', 'PGHL.NS', 'RALLIS.NS', 'RKFORGE.NS', 'RANEENGINE.BO', 'REGENCERAM.NS', 'RCOM.NS', 'SKFINDIA.NS', 'SAKHTISUG.NS', 'MOTHERSON.NS', 'SANDESH.NS', 'SAPPHIRE.NS', 'SAREGAMA.NS', 'SHARDACROP.NS', 'SHREECEM.NS', 'RENUKA.NS', 'SHRIRAMFIN.NS', 'SNOWMAN.NS', 'STYRENIX.NS', 'SUMMITSEC.NS', 'SUNTV.NS', 'SUNDRMFAST.NS', 'SUNTECK.NS', 'SUPRAJIT.NS', 'SPLPETRO.NS', 'SUVENPHAR.NS', 'SWARAJENG.NS', 'TTKPRESTIG.NS', 'TVSMOTOR.NS', 'TNPETRO.NS', 'TECHM.NS', 'TEJASNET.NS', 'TIMETECHNO.NS', 'TCI.NS', 'TREEHOUSE.NS', 'TRENT.NS', 'UTIAMC.NS', 'UFLEX.NS', 'UBL.NS', 'UNOMINDA.NS', 'V2RETAIL.NS', 'VGUARD.NS', 'VMART.NS', 'VHL.NS', 'VBL.NS', 'VENKEYS.NS', 'VINATIORGA.NS', 'VISAKAIND.NS', 'WHEELS.NS', 'WHIRLPOOL.NS', 'WIPRO.NS', 'ZEELEARN.NS', 'ZENSARTECH.NS']\n",
      "Sell List: ['BCG.NS', 'EDUCOMP.NS', 'JPASSOCIAT.NS']\n",
      "Hold List: ['ALLCARGO.BO', 'ASHIMASYN.BO', 'FORBESCO.BO', 'GTNINDS.BO', 'HOCL.BO', 'ITHL.BO', 'KENNAMET.BO', 'KINETICENG.BO', 'KIRLFER.BO', 'PATSPINLTD.BO', 'WARRENTEA.BO', '360ONE.NS', '3IINFOLTD.NS', '63MOONS.NS', 'ABB.NS', 'ACC.NS', 'AGI.NS', 'AJRINFRA.NS', 'AMJLAND.NS', 'APLAPOLLO.NS', 'ARSSINFRA.NS', 'AUBANK.NS', 'AARTIDRUGS.NS', 'AARTIIND.NS', 'ABAN.NS', 'ABBOTINDIA.NS', 'ACCELYA.NS', 'ADANIENSOL.NS', 'ADANIENT.NS', 'ADANIGREEN.NS', 'ADANIPORTS.NS', 'ADANIPOWER.NS', 'ATGL.NS', 'AWL.NS', 'ABCAPITAL.NS', 'ABFRL.NS', 'ADORWELD.NS', 'ADVENZYMES.NS', 'AEGISCHEM.NS', 'AETHER.NS', 'AFFLE.NS', 'ATFL.NS', 'AHLUCONT.NS', 'AJANTPHARM.NS', 'AJMERA.NS', 'AKSHOPTFBR.NS', 'ALEMBICLTD.NS', 'APLLTD.NS', 'ALKYLAMINE.NS', 'ADSL.NS', 'ALOKINDS.NS', 'AMBER.NS', 'AMBUJACEM.NS', 'ANANTRAJ.NS', 'ANGELONE.NS', 'ANSALAPI.NS', 'ANURAS.NS', 'APARINDS.NS', 'APOLLOHOSP.NS', 'APOLLOTYRE.NS', 'APTECHT.NS', 'APTUS.NS', 'ACI.NS', 'ARCHIES.NS', 'ARSHIYA.NS', 'ARVIND.NS', 'ASHIANA.NS', 'ASHOKLEY.NS', 'ASIANHOTNR.NS', 'ASIANPAINT.NS', 'ASTERDM.NS', 'ASTRAL.NS', 'ASTRAZEN.NS', 'ATLASCYCLE.NS', 'AUROPHARMA.NS', 'AUTOIND.NS', 'AUTOAXLES.NS', 'AVANTIFEED.NS', 'DMART.NS', 'AXISBANK.NS', 'AXISCADES.NS', 'BEML.NS', 'BFUTILITIE.NS', 'BGRENERGY.NS', 'BPL.NS', 'BSL.NS', 'BAJAJ-AUTO.BO', 'BAJFINANCE.NS', 'BAJAJFINSV.NS', 'BAJAJHLDNG.NS', 'BALAMINES.NS', 'BALAJITELE.NS', 'BALKRISIND.NS', 'BALLARPUR.NS', 'BALMLAWRIE.NS', 'BANCOINDIA.NS', 'BANDHANBNK.NS', 'BANKBARODA.NS', 'BANKINDIA.NS', 'MAHABANK.NS', 'BATAINDIA.NS', 'BERGEPAINT.NS', 'BDL.NS', 'BEL.NS', 'BHARATFORG.NS', 'BHEL.NS', 'BPCL.NS', 'BHARATRAS.NS', 'BHARTIARTL.NS', 'BINANIIND.NS', 'BIOCON.NS', 'BIRLACABLE.NS', 'BIRLACORPN.NS', 'BSOFT.NS', 'BBOX.NS', 'BLISSGVS.NS', 'BLUEDART.NS', 'BLUESTARCO.NS', 'BBTC.NS', 'BOMDYEING.NS', 'BRFL.NS', 'BORORENEW.NS', 'BOSCHLTD.NS', 'BRIGADE.NS', 'BRITANNIA.NS', 'CCL.NS', 'CESC.NS', 'CGPOWER.NS', 'CIEINDIA.NS', 'CSBBANK.NS', 'CAMLINFINE.NS', 'CAMPUS.NS', 'CANBK.NS', 'CAPLIPOINT.NS', 'CGCL.NS', 'CARBORUNIV.NS', 'CARERATING.NS', 'CASTROLIND.NS', 'CEATLTD.NS', 'CENTRALBK.NS', 'CDSL.NS', 'CENTENKA.NS', 'CENTURYPLY.NS', 'CENTURYTEX.NS', 'CHALET.NS', 'CHAMBLFERT.NS', 'CHEMPLASTS.NS', 'CHENNPETRO.NS', 'CHOLAFIN.NS', 'CINEVISTA.NS', 'CUB.NS', 'COALINDIA.NS', 'COCHINSHIP.NS', 'COFFEEDAY.NS', 'COFORGE.NS', 'COLPAL.NS', 'CAMS.NS', 'CONCORDBIO.NS', 'CONSOFINVT.NS', 'CONCOR.NS', 'CREATIVEYE.NS', 'CREDITACC.NS', 'CRISIL.NS', 'CROMPTON.NS', 'CUMMINSIND.NS', 'CYBERTECH.NS', 'CYIENT.NS', 'DBCORP.NS', 'DBREALTY.NS', 'DCBBANK.NS', 'DCMSHRIRAM.NS', 'DCW.NS', 'DLF.NS', 'DABUR.NS', 'DALBHARAT.NS', 'DALMIASUG.NS', 'DATAPATTNS.NS', 'DEEPAKFERT.NS', 'DEEPAKNTR.NS', 'DELHIVERY.NS', 'DEN.NS', 'DEVYANI.NS', 'DHAMPURSUG.NS', 'DHANI.NS', 'DHANBANK.NS', 'DBL.NS', 'DISHTV.NS', 'DCAL.NS', 'DIVISLAB.NS', 'LALPATHLAB.NS', 'DRREDDY.NS', 'DREDGECORP.NS', 'DYNAMATECH.NS', 'EIHOTEL.NS', 'EPL.NS', 'EASEMYTRIP.NS', 'ECLERX.NS', 'EDELWEISS.NS', 'EICHERMOT.NS', 'ELECTCAST.NS', 'EMAMILTD.NS', 'ENGINERSIN.NS', 'ENIL.NS', 'EPIGRAL.NS', 'EROSMEDIA.NS', 'ESABINDIA.NS', 'EVEREADY.NS', 'EVERESTIND.NS', 'EKC.NS', 'EXCELINDUS.NS', 'FDC.NS', 'NYKAA.NS', 'FEDERALBNK.NS', 'FINCABLES.NS', 'FINPIPE.NS', 'FSL.NS', 'FLEXITUFF.NS', 'FORTIS.NS', 'FCONSUMER.NS', 'FEL.NS', 'FLFL.NS', 'GAIL.NS', 'GBGLOBAL.NS', 'GET&D.NS', 'GFLLIMITED.NS', 'GMMPFAUDLR.NS', 'GMRINFRA.NS', 'GRINFRA.NS', 'GTL.NS', 'GVKPIL.NS', 'GRSE.NS', 'ACLGATI.NS', 'GAYAPROJ.NS', 'GICRE.NS', 'GEOJITFSL.NS', 'GILLETTE.NS', 'GLAND.NS', 'GLAXO.NS', 'GLS.NS', 'GLENMARK.NS', 'MEDANTA.NS', 'GOCOLORS.NS', 'GODFRYPHLP.NS', 'GODREJCP.NS', 'GODREJIND.NS', 'GODREJPROP.NS', 'GOKEX.NS', 'GRAPHITE.NS', 'GRASIM.NS', 'GESHIP.NS', 'GREAVESCOT.NS', 'GREENPANEL.NS', 'GRINDWELL.NS', 'GUJALKALI.NS', 'GAEL.NS', 'FLUOROCHEM.NS', 'GUJGASLTD.NS', 'GMDCLTD.NS', 'GNFC.NS', 'GPPL.NS', 'GSFC.NS', 'GSPL.NS', 'GULFOILLUB.NS', 'HCL-INSYS.NS', 'HCLTECH.NS', 'HDFCAMC.NS', 'HDFCBANK.NS', 'HDFCLIFE.NS', 'HEG.NS', 'HFCL.NS', 'HLEGLAS.NS', 'HLVLTD.NS', 'HMT.NS', 'HTMEDIA.NS', 'HARRMALAYA.NS', 'HATHWAY.NS', 'HAVELLS.NS', 'HEIDELBERG.NS', 'HEMIPROP.NS', 'HERITGFOOD.NS', 'HEROMOTOCO.NS', 'HEUBACHIND.NS', 'HIKAL.NS', 'HIMATSEIDE.NS', 'HINDALCO.NS', 'HGS.NS', 'HAL.NS', 'HINDCOPPER.NS', 'HMVL.NS', 'HINDMOTORS.NS', 'HINDOILEXP.NS', 'HINDPETRO.NS', 'HINDUNILVR.NS', 'HINDZINC.NS', 'POWERINDIA.NS', 'HONAUT.NS', 'HUDCO.NS', 'HDIL.NS', 'HUBTOWN.NS', 'ICICIBANK.NS', 'ICICIGI.NS', 'ICICIPRULI.NS', 'ISEC.NS', 'IDBI.NS', 'IDFCFIRSTB.NS', 'IDFC.NS', 'IFBIND.NS', 'IFCI.NS', 'IL&FSENGG.NS', 'IL&FSTRANS.NS', 'IOLCP.NS', 'IRB.NS', 'ITC.NS', 'ITDCEM.NS', 'ITI.NS', 'IGARASHI.NS', 'IMAGICAA.NS', 'INDSWFTLAB.NS', 'INDIACEM.NS', 'ITDC.NS', 'IBULHSGFIN.NS', 'IBREALEST.NS', 'INDIAMART.NS', 'INDIANB.NS', 'INDIANCARD.NS', 'IMFA.NS', 'IOC.NS', 'IOB.NS', 'IRCTC.NS', 'IRFC.NS', 'INDIGOPNTS.NS', 'ICIL.NS', 'INDOCO.NS', 'INDOSTAR.NS', 'IGL.NS', 'INDRAMEDCO.NS', 'INDUSTOWER.NS', 'INDUSINDBK.NS', 'INFIBEAM.NS', 'INGERRAND.NS', 'INOXWIND.NS', 'INTELLECT.NS', 'INDIGO.NS', 'IONEXCHANG.NS', 'IPCALAB.NS', 'IRCON.NS', 'JBCHEPHARM.NS', 'JBFIND.NS', 'JBMA.NS', 'JKCEMENT.NS', 'JKLAKSHMI.NS', 'JKTYRE.NS', 'JKIL.NS', 'JMFINANCIL.NS', 'JSWENERGY.NS', 'JSWHL.NS', 'JSWSTEEL.NS', 'JAGRAN.NS', 'JAGSNPHARM.NS', 'JAIBALAJI.NS', 'JPPOWER.NS', 'J&KBANK.NS', 'JAMNAAUTO.NS', 'JAYSREETEA.NS', 'JETAIRWAYS.NS', 'JINDALPOLY.NS', 'JINDALSAW.NS', 'JSL.NS', 'JINDALSTEL.NS', 'JINDWORLD.NS', 'JCHAC.NS', 'JUBLINGREA.NS', 'JUBLPHARMA.NS', 'JUSTDIAL.NS', 'JYOTHYLAB.NS', 'JYOTISTRUC.NS', 'KEC.NS', 'KIOCL.NS', 'KNRCON.NS', 'KPITTECH.NS', 'KPRMILL.NS', 'KRBL.NS', 'KSB.NS', 'KAJARIACER.NS', 'KAKATCEM.NS', 'KPIL.NS', 'KALYANKJIL.NS', 'KANSAINER.NS', 'KTKBANK.NS', 'KARURVYSYA.NS', 'KSCL.NS', 'KAYNES.NS', 'KEI.NS', 'KESORAMIND.NS', 'KKCL.NS', 'RUSTOMJEE.NS', 'KFINTECH.NS', 'KIRLOSBROS.NS', 'KIRLOSIND.NS', 'KIRLOSENG.NS', 'KITEX.NS', 'KOHINOOR.NS', 'KOLTEPATIL.NS', 'KOPRAN.NS', 'KOTAKBANK.NS', 'KOTHARIPRO.NS', 'KREBSBIO.NS', 'KIMS.NS', 'LTTS.NS', 'LGBBROSLTD.NS', 'LICHSGFIN.NS', 'LAOPALA.NS', 'LAXMIMACH.NS', 'LT.NS', 'LATENTVIEW.NS', 'LAURUSLABS.NS', 'LXCHEM.NS', 'LEMONTREE.NS', 'LICI.NS', 'LINDEINDIA.NS', 'LOVABLE.NS', 'LUMAXIND.NS', 'LUPIN.NS', 'LUXIND.NS', 'MBLINFRA.NS', 'MMTC.NS', 'MOIL.NS', 'MRF.NS', 'MRO-TEK.NS', 'MTARTECH.NS', 'MTEDUCARE.NS', 'LODHA.NS', 'MADRASFERT.NS', 'MGL.NS', 'MTNL.NS', 'MAHSCOOTER.NS', 'MAHSEAMLES.NS', 'M&M.NS', 'MAHLIFE.NS', 'MAHLOG.NS', 'MANINDS.NS', 'MANINFRA.NS', 'MANALIPETC.NS', 'MANAPPURAM.NS', 'MANGCHEFER.NS', 'MRPL.NS', 'MANKIND.NS', 'MARALOVER.NS', 'MARICO.NS', 'MARKSANS.NS', 'MARUTI.NS', 'MASTEK.NS', 'MFSL.NS', 'MAZDOCK.NS', 'MCLEODRUSS.NS', 'MEDPLUS.NS', 'MELSTAR.NS', 'METALFORGE.NS', 'METROBRAND.NS', 'METROPOLIS.NS', 'MINDACORP.NS', 'MIRCELECTR.NS', 'MIRZAINT.NS', 'MIDHANI.NS', 'MODIRUBBER.NS', 'MOREPENLAB.NS', 'MSUMI.NS', 'MOTILALOFS.NS', 'MPHASIS.NS', 'MUKANDLTD.NS', 'MUKTAARTS.NS', 'MCX.NS', 'MUNJALSHOW.NS', 'MUTHOOTFIN.NS', 'NBCC.NS', 'NCC.NS', 'NDLVENTURE.NS', 'NHPC.NS', 'NIITLTD.NS', 'NLCINDIA.NS', 'NMDC.NS', 'NSLNISP.NS', 'NRBBEARING.NS', 'NTPC.NS', 'NAHARSPING.NS', 'NSIL.NS', 'NH.NS', 'NATIONALUM.NS', 'NAVKARCORP.NS', 'NAVNETEDUL.NS', 'NAZARA.NS', 'NELCO.NS', 'NESCO.NS', 'NESTLEIND.NS', 'NETWORK18.NS', 'NTL.NS', 'NDTV.NS', 'NIACL.NS', 'NEXTMEDIA.NS', 'NILKAMAL.NS', 'NAM-INDIA.NS', 'NOCIL.NS', 'NOIDATOLL.NS', 'NUVOCO.NS', 'OBEROIRLTY.NS', 'ONGC.NS', 'OIL.NS', 'OLECTRA.NS', 'OMAXE.NS', 'PAYTM.NS', 'ONELIFECAP.NS', 'ONWARDTEC.NS', 'ORCHPHARMA.NS', 'ORIENTCEM.NS', 'ORIENTPPR.NS', 'ORIENTHOT.NS', 'ORISSAMINE.NS', 'OSWALGREEN.NS', 'POLICYBZR.NS', 'PCBL.NS', 'PCJEWELLER.NS', 'PIIND.NS', 'PNBGILTS.NS', 'PNBHOUSING.NS', 'PNCINFRA.NS', 'PSPPROJECT.NS', 'PFS.NS', 'PTC.NS', 'PVP.NS', 'PVRINOX.NS', 'PAISALO.NS', 'PANACEABIO.NS', 'PARAGMILK.NS', 'PARSVNATH.NS', 'PATANJALI.NS', 'PATELENG.NS', 'PGIL.NS', 'PENINLAND.NS', 'PENIND.NS', 'PETRONET.NS', 'PFIZER.NS', 'PIDILITIND.NS', 'PEL.NS', 'PPLPHARMA.NS', 'POLYCAB.NS', 'POLYPLEX.NS', 'POONAWALLA.NS', 'PFC.NS', 'POWERGRID.NS', 'PRAKASH.NS', 'PRESTIGE.NS', 'PFOCUS.NS', 'PRSMJOHNSN.NS', 'PNC.NS', 'PGHH.NS', 'PNB.NS', 'PURVA.NS', 'QUESS.NS', 'RBLBANK.NS', 'RECLTD.NS', 'RHIM.NS', 'RSSOFTWARE.NS', 'RSWM.NS', 'RADICO.NS', 'RVNL.NS', 'RAILTEL.NS', 'RAIN.NS', 'RAINBOW.NS', 'RAJTV.NS', 'RAJESHEXPO.NS', 'RAMCOCEM.NS', 'RAMCOIND.NS', 'RAMCOSYS.NS', 'RAMKY.NS', 'RBL.NS', 'RCF.NS', 'RATNAMANI.NS', 'RTNINDIA.NS', 'RTNPOWER.NS', 'RAYMOND.NS', 'REDINGTON.NS', 'RELAXO.NS', 'RELCAPITAL.NS', 'RHFL.NS', 'RIIL.NS', 'RELIANCE.NS', 'RELINFRA.NS', 'RPOWER.NS', 'RELIGARE.NS', 'REPCOHOME.NS', 'RESPONIND.NS', 'RBA.NS', 'RICOAUTO.NS', 'RITES.NS', 'ROLTA.NS', 'ROSSARI.NS', 'ROUTE.NS', 'RUPA.NS', 'SBICARD.NS', 'SBILIFE.NS', 'SHK.NS', 'SILINV.NS', 'SIS.NS', 'SJVN.NS', 'SMLISUZU.NS', 'SRF.NS', 'SADBHAV.NS', 'SADBHIN.NS', 'SAFARI.NS', 'SANOFI.NS', 'SCHAEFFLER.NS', 'SCHNEIDER.NS', 'SEAMECLTD.NS', 'SECURKLOUD.NS', 'SEQUENT.NS', 'SESHAPAPER.NS', 'SHANKARA.NS', 'SHANTIGEAR.NS', 'SFL.NS', 'SHILPAMED.NS', 'SCI.NS', 'SHOPERSTOP.NS', 'SHREERAMA.NS', 'RAMANEWS.NS', 'SHYAMMETL.NS', 'SHYAMTEL.NS', 'SIEMENS.NS', 'SIMPLEXINF.BO', 'SPTL.NS', 'SMARTLINK.NS', 'SOBHA.NS', 'SOLARINDS.NS', 'SOLARA.NS', 'SOMANYCERA.NS', 'SONACOMS.NS', 'SONATSOFTW.NS', 'SOUTHBANK.NS', 'SPIC.NS', 'SPANDANA.NS', 'SIL.NS', 'STARCEMENT.NS', 'SBIN.NS', 'STCINDIA.NS', 'SAIL.NS', 'SWSOLAR.NS', 'STLTECH.NS', 'STAR.NS', 'SUDARSCHEM.NS', 'SUMICHEM.NS', 'SPARC.NS', 'SUNPHARMA.NS', 'SUNDRMBRAK.NS', 'SUNDARMFIN.NS', 'SUPREMEIND.NS', 'SUPREMEINF.NS', 'SURYAROSNI.NS', 'SURYALAXMI.NS', 'SUVEN.NS', 'SUZLON.NS', 'SWANENERGY.NS', 'SYMPHONY.NS', 'SYNGENE.NS', 'SYRMA.NS', 'TCIEXP.NS', 'TCNSBRANDS.NS', 'TDPOWERSYS.NS', 'TVSHLTD.NS', 'TVSSRICHAK.NS', 'TVTODAY.NS', 'TAJGVK.NS', 'TAKE.NS', 'TNPL.NS', 'TMB.NS', 'TNTELE.NS', 'TANLA.NS', 'TASTYBITE.NS', 'TATACHEM.NS', 'TATACOMM.NS', 'TCS.NS', 'TATACONSUM.NS', 'TATAELXSI.NS', 'TATAINVEST.NS', 'TATAMOTORS.NS', 'TATAPOWER.NS', 'TATASTEEL.NS', 'TTML.NS', 'TEAMLEASE.NS', 'TECHNOE.NS', 'TEXRAIL.NS', 'THERMAX.NS', 'TIRUMALCHM.NS', 'THOMASCOOK.NS', 'THYROCARE.NS', 'TIDEWATER.NS', 'TI.NS', 'TIMKEN.NS', 'TIPSINDLTD.NS', 'TITAN.NS', 'TORNTPHARM.NS', 'TORNTPOWER.NS', 'TFCILTD.NS', 'TBZ.NS', 'TRIDENT.NS', 'TRIGYN.NS', 'TRIVENI.NS', 'TRITURBINE.NS', 'TIINDIA.NS', 'TV18BRDCST.NS', 'UPL.NS', 'UCAL.NS', 'UCOBANK.NS', 'UJJIVANSFB.NS', 'ULTRACEMCO.NS', 'UNICHEMLAB.NS', 'UNIONBANK.NS', 'UNIENTER.NS', 'UNITECH.NS', 'MCDOWELL-N.NS', 'USHAMART.NS', 'UTTAMSUGAR.NS', 'WABAG.NS', 'VIPIND.NS', 'VLSFINANCE.NS', 'VRLLOG.NS', 'VSTIND.NS', 'VAIBHAVGBL.NS', 'VAKRANGEE.NS', 'VALIANTORG.NS', 'VARDMNPOLY.NS', 'VTL.NS', 'VARROC.NS', 'MANYAVAR.NS', 'VEDL.NS', 'VESUVIUS.NS', 'VIDEOIND.NS', 'VIJAYA.NS', 'VINDHYATEL.NS', 'VINYLINDIA.NS', 'VIVIDHA.NS', 'IDEA.NS', 'VOLTAS.NS', 'WELCORP.NS', 'WELSPUNLIV.NS', 'WSTCSTPAPR.NS', 'WESTLIFE.NS', 'WOCKPHARMA.NS', 'WONDERLA.NS', 'YAARI.NS', 'YESBANK.NS', 'ZFCVINDIA.NS', 'ZEEL.NS', 'ZEEMEDIA.NS', 'ZODIACLOTH.NS', 'ZOMATO.NS', 'ZUARIIND.NS', 'ZYDUSLIFE.NS', 'ZYDUSLIFE.NS']\n"
     ]
    }
   ],
   "source": [
    "buy_list = data_values[data_values['Status'] == 1]['Ticker'].tolist()\n",
    "sell_list = data_values[data_values['Status'] == -1]['Ticker'].tolist()\n",
    "hold_list = data_values[data_values['Status'] == 0]['Ticker'].tolist()\n",
    "\n",
    "print(\"Buy List:\", buy_list)\n",
    "print(\"Sell List:\", sell_list)\n",
    "print(\"Hold List:\", hold_list)"
   ]
  },
  {
   "cell_type": "code",
   "execution_count": null,
   "id": "48e6cb25",
   "metadata": {
    "scrolled": true
   },
   "outputs": [],
   "source": []
  }
 ],
 "metadata": {
  "kernelspec": {
   "display_name": "Python 3 (ipykernel)",
   "language": "python",
   "name": "python3"
  },
  "language_info": {
   "codemirror_mode": {
    "name": "ipython",
    "version": 3
   },
   "file_extension": ".py",
   "mimetype": "text/x-python",
   "name": "python",
   "nbconvert_exporter": "python",
   "pygments_lexer": "ipython3",
   "version": "3.9.18"
  }
 },
 "nbformat": 4,
 "nbformat_minor": 5
}
